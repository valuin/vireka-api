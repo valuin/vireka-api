{
 "cells": [
  {
   "cell_type": "code",
   "execution_count": null,
   "metadata": {},
   "outputs": [],
   "source": [
    "#import libraries\n",
    "import pandas as pd\n",
    "import ast\n",
    "\n",
    "#load data\n",
    "with open('indonesia_villages_border.geojson') as myfile:\n",
    "    data = ast.literal_eval(myfile.read())\n",
    "\n",
    "#nitiate list containers\n",
    "provinces = []\n",
    "districts = []\n",
    "sub_districts = []\n",
    "villages = []\n",
    "borders = []\n",
    "\n",
    "#fill the lists via looping\n",
    "for datapoint in data:\n",
    "    provinces.append(datapoint.get('province'))\n",
    "    districts.append(datapoint.get('district'))\n",
    "    sub_districts.append(datapoint.get('sub_district'))\n",
    "    villages.append(datapoint.get('village'))\n",
    "    borders.append(datapoint.get('border'))\n",
    "\n",
    "#create as dataframe\n",
    "df_village_border = pd.DataFrame({\n",
    "    'province' : provinces,\n",
    "    'district' : districts,\n",
    "    'sub_district' : sub_districts,\n",
    "    'village' : villages,\n",
    "    'border' : borders\n",
    "})\n",
    "\n",
    "first_5_rows = df_village_border.head()\n",
    "print(first_5_rows)\n"
   ]
  }
 ],
 "metadata": {
  "kernelspec": {
   "display_name": ".venv",
   "language": "python",
   "name": "python3"
  },
  "language_info": {
   "codemirror_mode": {
    "name": "ipython",
    "version": 3
   },
   "file_extension": ".py",
   "mimetype": "text/x-python",
   "name": "python",
   "nbconvert_exporter": "python",
   "pygments_lexer": "ipython3",
   "version": "3.11.12"
  }
 },
 "nbformat": 4,
 "nbformat_minor": 2
}
