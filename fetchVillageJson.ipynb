{
 "cells": [
  {
   "cell_type": "code",
   "execution_count": 1,
   "metadata": {},
   "outputs": [
    {
     "ename": "SyntaxError",
     "evalue": "invalid syntax (3024193793.py, line 11)",
     "output_type": "error",
     "traceback": [
      "  \u001b[36mCell\u001b[39m\u001b[36m \u001b[39m\u001b[32mIn[1]\u001b[39m\u001b[32m, line 11\u001b[39m\n\u001b[31m    \u001b[39m\u001b[31mprint(\"file opened\")l\u001b[39m\n                        ^\n\u001b[31mSyntaxError\u001b[39m\u001b[31m:\u001b[39m invalid syntax\n"
     ]
    }
   ],
   "source": [
    "#import libraries\n",
    "print(\"importing libraries\")\n",
    "import pandas as pd\n",
    "import ast\n",
    "\n",
    "print(\"opening file\")\n",
    "#load data\n",
    "with open('indonesia_villages_border.geojson') as myfile:\n",
    "    data = ast.literal_eval(myfile.read())\n",
    "\n",
    "print(\"file opened\")l\n",
    "\n",
    "#nitiate list containers\n",
    "provinces = []\n",
    "districts = []\n",
    "sub_districts = []\n",
    "villages = []\n",
    "borders = []\n",
    "\n",
    "#fill the lists via looping\n",
    "for datapoint in data:\n",
    "    provinces.append(datapoint.get('province'))\n",
    "    districts.append(datapoint.get('district'))\n",
    "    sub_districts.append(datapoint.get('sub_district'))\n",
    "    villages.append(datapoint.get('village'))\n",
    "    borders.append(datapoint.get('border'))\n",
    "\n",
    "print(\"creating dataframe\")\n",
    "#create as dataframe\n",
    "df_village_border = pd.DataFrame({\n",
    "    'province' : provinces,\n",
    "    'district' : districts,\n",
    "    'sub_district' : sub_districts,\n",
    "    'village' : villages,\n",
    "    'border' : borders\n",
    "})\n",
    "\n",
    "first_5_rows = df_village_border.head()\n",
    "print(first_5_rows)\n"
   ]
  }
 ],
 "metadata": {
  "kernelspec": {
   "display_name": ".venv",
   "language": "python",
   "name": "python3"
  },
  "language_info": {
   "codemirror_mode": {
    "name": "ipython",
    "version": 3
   },
   "file_extension": ".py",
   "mimetype": "text/x-python",
   "name": "python",
   "nbconvert_exporter": "python",
   "pygments_lexer": "ipython3",
   "version": "3.11.12"
  }
 },
 "nbformat": 4,
 "nbformat_minor": 2
}
